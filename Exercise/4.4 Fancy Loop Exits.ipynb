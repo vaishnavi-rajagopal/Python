{
 "cells": [
  {
   "cell_type": "markdown",
   "metadata": {},
   "source": [
    "## 4.4 Fancy Loop Exits\n",
    "\n",
    "Sample answers are in a separate folder with an explanation (there might be multiple ways to solve a problem though!) \n"
   ]
  },
  {
   "cell_type": "markdown",
   "metadata": {},
   "source": [
    "4.4.1 Using a loop skip any lines that are comments in the file_contents list below.  Comment lines are denoted by the '#' as the first character.  If the line is not a comment line print out the date once until it changes.  Underneath that date print out each time entry and the reading for that time.  (format for non-comment lines are <'date time reading'>."
   ]
  },
  {
   "cell_type": "code",
   "execution_count": 16,
   "metadata": {},
   "outputs": [
    {
     "name": "stdout",
     "output_type": "stream",
     "text": [
      "5-20-2018\n",
      "1000 15\n",
      "1015 16\n",
      "1030 14\n",
      "1045 -\n",
      "1100 12\n",
      "1115 10\n",
      "1130 12\n",
      "1145 18\n",
      "5-21-2018\n",
      "1200 12\n",
      "1215 15\n"
     ]
    }
   ],
   "source": [
    "file_contents = ['# This is a file that records', '# Entries every 15 minutes from a meter', '# Property of p36'\n",
    "                 '# Next lines are from 10-11', '5-20-2018 1000 15', '5-20-2018 1015 16', '5-20-2018 1030 14', \n",
    "                 '5-20-2018 1045 -', '# Next lines are from 11-12', '5-20-2018 1100 12', '5-20-2018 1115 10', \n",
    "                 '5-20-2018 1130 12', '5-20-2018 1145 18', '# Next lines are from 12-1', \n",
    "                 '5-21-2018 1200 12', '5-21-2018 1215 15',]\n",
    "file_contents_new=[]\n",
    "date_val=\"\"\n",
    "\n",
    "for i in range(0,len(file_contents)):\n",
    "    if file_contents[i][0]!='#':\n",
    "        file_contents_new.append(file_contents[i])\n",
    "\n",
    "for j in range(0,len(file_contents_new)):\n",
    "    file_contents_new[j]=file_contents_new[j].split()\n",
    "\n",
    "for k in range(0,len(file_contents_new)):\n",
    "    if (date_val==file_contents_new[k][0]):\n",
    "        print (file_contents_new[k][1]+\" \"+ file_contents_new[k][2])\n",
    "    else :\n",
    "        print (file_contents_new[k][0])\n",
    "        print (file_contents_new[k][1]+\" \"+ file_contents_new[k][2])\n",
    "    date_val=file_contents_new[k][0]\n",
    "        "
   ]
  },
  {
   "cell_type": "markdown",
   "metadata": {},
   "source": [
    "4.4.2 Using a while loop keep adding items to a to-do list that a user inputs until the user types 'q'. At the end, print out that list."
   ]
  },
  {
   "cell_type": "code",
   "execution_count": null,
   "metadata": {
    "collapsed": true
   },
   "outputs": [],
   "source": [
    "# Your code here"
   ]
  },
  {
   "cell_type": "markdown",
   "metadata": {},
   "source": [
    "4.4.3 Using 2 loops print out all of the numbers from 2-20 that are prime numbers."
   ]
  },
  {
   "cell_type": "code",
   "execution_count": 35,
   "metadata": {},
   "outputs": [
    {
     "name": "stdout",
     "output_type": "stream",
     "text": [
      "[2, 3, 5, 7, 9, 11, 13, 15, 17, 19]\n"
     ]
    }
   ],
   "source": [
    "prime_num=[2,3]\n",
    "\n",
    "for i in range (4,21):\n",
    "    for j in range(2,i):\n",
    "        if (int(i%j)!=0):\n",
    "            prime_num.append(i)\n",
    "        else:\n",
    "            break\n",
    "n=len(prime_num)\n",
    "prime_num =[j for n,j in enumerate(prime_num) if j not in prime_num[:n]]\n",
    "\n",
    "print(prime_num)"
   ]
  },
  {
   "cell_type": "markdown",
   "metadata": {},
   "source": [
    "4.4.4 Make a loop to go through a list of numbers - if that list only contains valid numbers then print valid, if the list has entries that are not numbers print out invalid and that (first) invalid entry."
   ]
  },
  {
   "cell_type": "code",
   "execution_count": null,
   "metadata": {},
   "outputs": [],
   "source": [
    "# Try your code with each list!\n",
    "list1 = [1,2.0,3,4,5,7,8,9,19,0,-10]\n",
    "list2 = [-1,2.0,0,3,45,6,7,'',10,200]\n",
    "\n",
    "# Your code here"
   ]
  },
  {
   "cell_type": "markdown",
   "metadata": {},
   "source": [
    "4.4.5 Make a loop to keep asking a user to guess a number between 1 & 10.  The user will have 3 guesses. If the user guesses the right number tell them they won the game.  If the user doesn't guess the right number in 3 guesses tell them they lost the game."
   ]
  },
  {
   "cell_type": "code",
   "execution_count": null,
   "metadata": {},
   "outputs": [],
   "source": [
    "# Setting the number of guesses and picking a random number as the number to guess\n",
    "import random\n",
    "guesses = 3\n",
    "number = random.randint(1,10)\n",
    "\n",
    "# Your code here\n"
   ]
  }
 ],
 "metadata": {
  "kernelspec": {
   "display_name": "Python 3",
   "language": "python",
   "name": "python3"
  },
  "language_info": {
   "codemirror_mode": {
    "name": "ipython",
    "version": 3
   },
   "file_extension": ".py",
   "mimetype": "text/x-python",
   "name": "python",
   "nbconvert_exporter": "python",
   "pygments_lexer": "ipython3",
   "version": "3.6.7"
  }
 },
 "nbformat": 4,
 "nbformat_minor": 2
}
