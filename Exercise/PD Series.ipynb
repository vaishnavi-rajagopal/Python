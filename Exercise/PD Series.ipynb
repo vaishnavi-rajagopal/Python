{
 "cells": [
  {
   "cell_type": "code",
   "execution_count": 12,
   "metadata": {},
   "outputs": [
    {
     "name": "stdout",
     "output_type": "stream",
     "text": [
      "3.6.5 |Anaconda, Inc.| (default, Apr 26 2018, 08:42:37) \n",
      "[GCC 4.2.1 Compatible Clang 4.0.1 (tags/RELEASE_401/final)]\n",
      "1.14.3\n",
      "0.23.0\n"
     ]
    }
   ],
   "source": [
    "import sys\n",
    "print(sys.version)\n",
    "import numpy as np\n",
    "print(np.__version__)\n",
    "import pandas as pd\n",
    "print(pd.__version__)\n",
    "import matplotlib.pyplot as plt\n",
    "\n",
    "%matplotlib inline"
   ]
  },
  {
   "cell_type": "code",
   "execution_count": 13,
   "metadata": {},
   "outputs": [],
   "source": [
    "#11.04.1 - Create two Pandas Series objects. The first, named class_grades, should contain the grades of five students. \n",
    "#Make up whatever grades you would like. The second should contain the names of five students. \n",
    "#Please name at least one of the students \"Sarah\".\n",
    "\n",
    "#After you make them, print both Series to the screen.\n",
    "\n",
    "class_grades = pd.Series([45,67,67,85,89,96], name = 'Class Grades')\n",
    "class_students = pd.Series(['Alex','Ben','Carl','Sarah','Travis','Tamanna'], name = 'Class Stduents')\n",
    "\n",
    "#print(class_grades)\n",
    "#print(class_students)"
   ]
  },
  {
   "cell_type": "code",
   "execution_count": 14,
   "metadata": {},
   "outputs": [],
   "source": [
    "#11.04.2 - Now let's examine the index of class_grades. \n",
    "#Start by printing the index attribute of your Series to the screen.\n",
    "#Then, update the index of class_grades to be equal to the values of student_names. \n",
    "#That is, the student names will be the index of the grades. Print your new series.\n",
    "\n",
    "class_grades.index = class_students.values\n",
    "#class_grades"
   ]
  },
  {
   "cell_type": "code",
   "execution_count": 15,
   "metadata": {},
   "outputs": [
    {
     "data": {
      "text/plain": [
       "array([85, 67])"
      ]
     },
     "execution_count": 15,
     "metadata": {},
     "output_type": "execute_result"
    }
   ],
   "source": [
    "#11.04.3 - Let's practice accessing elements of a data series. \n",
    "#Use bracket notation to first pull out and print Sarah's grade. \n",
    "#Then, use bracket notation to pull out Sarah's grade in addition to one other student.\n",
    "\n",
    "class_grades[['Sarah','Carl']].values"
   ]
  },
  {
   "cell_type": "code",
   "execution_count": 16,
   "metadata": {},
   "outputs": [
    {
     "data": {
      "text/plain": [
       "Alex       False\n",
       "Ben        False\n",
       "Carl       False\n",
       "Sarah       True\n",
       "Travis      True\n",
       "Tamanna     True\n",
       "Name: Class Grades, dtype: bool"
      ]
     },
     "execution_count": 16,
     "metadata": {},
     "output_type": "execute_result"
    }
   ],
   "source": [
    "#11.04.4 - Now, use boolean notation to print out all students with a grade over 85. \n",
    "#If none of your students have a grade that high, pick a different number.\n",
    "class_grades>=85"
   ]
  },
  {
   "cell_type": "code",
   "execution_count": 17,
   "metadata": {},
   "outputs": [
    {
     "data": {
      "text/plain": [
       "Alex       45\n",
       "Ben        67\n",
       "Carl       67\n",
       "Sarah      85\n",
       "Travis     85\n",
       "Tamanna    85\n",
       "Name: Grades, dtype: int64"
      ]
     },
     "execution_count": 17,
     "metadata": {},
     "output_type": "execute_result"
    }
   ],
   "source": [
    "#11.04.5 - You have decided that nobody deserves a grade over 85. \n",
    "#You're so mean! Create a copy of your series called \"censored_grades\", \n",
    "#and then use your boolean notation to replace any grades over an 85 with an 85.\n",
    "censored_grades = class_grades.copy()\n",
    "censored_grades = pd.Series([85 if (x>=85) else (x) for x in censored_grades], name = 'Grades')\n",
    "censored_grades.index = class_students.values\n",
    "censored_grades"
   ]
  },
  {
   "cell_type": "code",
   "execution_count": 18,
   "metadata": {},
   "outputs": [
    {
     "data": {
      "text/plain": [
       "<matplotlib.axes._subplots.AxesSubplot at 0x10b467a58>"
      ]
     },
     "execution_count": 18,
     "metadata": {},
     "output_type": "execute_result"
    },
    {
     "data": {
      "image/png": "[encoded data removed]",
      "text/plain": [
       "<Figure size 432x288 with 1 Axes>"
      ]
     },
     "metadata": {},
     "output_type": "display_data"
    }
   ],
   "source": [
    "#11.04.6 - Generate histograms of both \"class_grades\" and \"censored_grades\". Use 5 bins in each.\n",
    "class_grades.hist(bins = 5)\n",
    "censored_grades.hist(bins = 5)"
   ]
  },
  {
   "cell_type": "code",
   "execution_count": 19,
   "metadata": {},
   "outputs": [],
   "source": [
    "class_grades.to_csv(\"gradebook.csv\")"
   ]
  },
  {
   "cell_type": "code",
   "execution_count": null,
   "metadata": {},
   "outputs": [],
   "source": []
  }
 ],
 "metadata": {
  "kernelspec": {
   "display_name": "Python 3",
   "language": "python",
   "name": "python3"
  },
  "language_info": {
   "codemirror_mode": {
    "name": "ipython",
    "version": 3
   },
   "file_extension": ".py",
   "mimetype": "text/x-python",
   "name": "python",
   "nbconvert_exporter": "python",
   "pygments_lexer": "ipython3",
   "version": "3.6.5"
  }
 },
 "nbformat": 4,
 "nbformat_minor": 2
}
